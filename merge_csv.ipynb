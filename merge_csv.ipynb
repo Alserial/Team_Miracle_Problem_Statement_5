{
 "cells": [
  {
   "cell_type": "code",
   "execution_count": 1,
   "metadata": {},
   "outputs": [
    {
     "name": "stdout",
     "output_type": "stream",
     "text": [
      "两个CSV文件已成功拼接并保存到 combined_file.csv\n"
     ]
    }
   ],
   "source": [
    "import pandas as pd\n",
    "\n",
    "df1 = pd.read_csv('building_metrics.csv')\n",
    "\n",
    "df2 = pd.read_csv('house.csv')\n",
    "\n",
    "combined_df = pd.concat([df1, df2], axis=1)\n",
    "\n",
    "combined_df.to_csv('combined_file.csv', index=False)\n"
   ]
  },
  {
   "cell_type": "code",
   "execution_count": 7,
   "metadata": {},
   "outputs": [],
   "source": [
    "df =pd.read_csv(\"combined_file.csv\")"
   ]
  },
  {
   "cell_type": "code",
   "execution_count": 10,
   "metadata": {},
   "outputs": [],
   "source": [
    "import pandas as pd\n",
    "\n",
    "df = pd.read_csv('combined_file.csv')\n",
    "\n",
    "df = df.drop(['Building Index', 'Unnamed: 0'], axis=1)\n",
    "\n",
    "df.to_csv('combined_file.csv', index=False)\n"
   ]
  },
  {
   "cell_type": "code",
   "execution_count": 11,
   "metadata": {},
   "outputs": [
    {
     "data": {
      "text/plain": [
       "Index(['Area (sqm)', 'Perimeter (m)', 'U_value', 'SHGC_value', 'WWR_value',\n",
       "       'Window_Num', 'SC_value', 'Climate_Zone', 'Cluster', 'Energy_Rating'],\n",
       "      dtype='object')"
      ]
     },
     "execution_count": 11,
     "metadata": {},
     "output_type": "execute_result"
    }
   ],
   "source": [
    "df.columns"
   ]
  }
 ],
 "metadata": {
  "kernelspec": {
   "display_name": "sml",
   "language": "python",
   "name": "python3"
  },
  "language_info": {
   "codemirror_mode": {
    "name": "ipython",
    "version": 3
   },
   "file_extension": ".py",
   "mimetype": "text/x-python",
   "name": "python",
   "nbconvert_exporter": "python",
   "pygments_lexer": "ipython3",
   "version": "3.10.0"
  }
 },
 "nbformat": 4,
 "nbformat_minor": 2
}
