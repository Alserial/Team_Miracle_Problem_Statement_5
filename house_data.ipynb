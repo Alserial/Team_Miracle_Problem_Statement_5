{
 "cells": [
  {
   "cell_type": "code",
   "execution_count": null,
   "metadata": {},
   "outputs": [],
   "source": [
    "import numpy as np\n",
    "import overpy\n",
    "\n",
    "api = overpy.Overpass()\n",
    "\n",
    "query = \"\"\"\n",
    "[out:json];\n",
    "(\n",
    "  way[\"building\"](52.5100,13.3950,52.5400,13.4250);\n",
    ");\n",
    "out body;\n",
    ">;\n",
    "out skel qt;\n",
    "\"\"\"\n",
    "\n",
    "result = api.query(query)\n",
    "\n",
    "buildings_data = []\n",
    "\n",
    "i = 0\n",
    "for way in result.ways:\n",
    "    if i >= 1000:\n",
    "        break\n",
    "    nodes_data = []\n",
    "    \n",
    "    for node in way.nodes:\n",
    "        lat, lon = node.lat, node.lon\n",
    "        nodes_data.append([lat, lon])\n",
    "    \n",
    "    nodes_array = np.array(nodes_data)\n",
    "    \n",
    "    buildings_data.append(nodes_array)\n",
    "    i += 1\n"
   ]
  },
  {
   "cell_type": "code",
   "execution_count": null,
   "metadata": {},
   "outputs": [],
   "source": [
    "import numpy as np\n",
    "from shapely.geometry import Polygon\n",
    "from pyproj import Proj, transform\n",
    "\n",
    "proj_utm = Proj(proj='utm', zone=33, ellps='WGS84')\n",
    "\n",
    "areas = []\n",
    "perimeters = []\n",
    "\n",
    "for i, building in enumerate(buildings_data):\n",
    "    utm_coords = []\n",
    "    for lat, lon in building:\n",
    "        x, y = proj_utm(lon, lat)\n",
    "        utm_coords.append((x, y))\n",
    "    \n",
    "    polygon = Polygon(utm_coords)\n",
    "    \n",
    "    area = polygon.area\n",
    "    perimeter = polygon.length\n",
    "\n",
    "    areas.append(area)\n",
    "    perimeters.append(perimeter)\n"
   ]
  },
  {
   "cell_type": "code",
   "execution_count": null,
   "metadata": {},
   "outputs": [],
   "source": [
    "import csv\n",
    "\n",
    "csv_data = []\n",
    "\n",
    "\n",
    "for i, (area, perimeter) in enumerate(zip(areas, perimeters)):\n",
    "\n",
    "    csv_data.append([i + 1, area, perimeter])\n",
    "\n",
    "\n",
    "with open('building_metrics.csv', mode='w', newline='') as file:\n",
    "    writer = csv.writer(file)\n",
    "    \n",
    "    writer.writerow(['Building Index', 'Area (sqm)', 'Perimeter (m)'])\n",
    "    \n",
    "    writer.writerows(csv_data)\n",
    "\n"
   ]
  },
  {
   "cell_type": "markdown",
   "metadata": {},
   "source": [
    "下面的暂时没用"
   ]
  },
  {
   "cell_type": "code",
   "execution_count": null,
   "metadata": {},
   "outputs": [],
   "source": []
  },
  {
   "cell_type": "code",
   "execution_count": 4,
   "metadata": {},
   "outputs": [],
   "source": [
    "import xml.etree.ElementTree as ET\n",
    "\n",
    "def save_osm(result, file_name=\"buildings.osm\"):\n",
    "    osm_root = ET.Element(\"osm\", version=\"0.6\")\n",
    "\n",
    "    # 添加节点\n",
    "    for node in result.nodes:\n",
    "        ET.SubElement(osm_root, \"node\", id=str(node.id), lat=str(node.lat), lon=str(node.lon))\n",
    "\n",
    "    # 添加建筑物路径（多边形）\n",
    "    for way in result.ways:\n",
    "        way_element = ET.SubElement(osm_root, \"way\", id=str(way.id))\n",
    "        for node in way.nodes:\n",
    "            ET.SubElement(way_element, \"nd\", ref=str(node.id))\n",
    "\n",
    "    # 保存为 .osm 文件\n",
    "    tree = ET.ElementTree(osm_root)\n",
    "    tree.write(file_name)\n",
    "\n",
    "# 保存结果到buildings.osm文件\n",
    "save_osm(result)"
   ]
  },
  {
   "cell_type": "code",
   "execution_count": 10,
   "metadata": {},
   "outputs": [
    {
     "name": "stdout",
     "output_type": "stream",
     "text": [
      "Conversion successful, 3D model saved as buildings.obj\n"
     ]
    }
   ],
   "source": [
    "import subprocess\n",
    "\n",
    "def convert_to_3d(input_file=\"buildings.osm\", output_file=\"buildings.obj\"):\n",
    "    command = [\n",
    "        \"java\", \"-jar\", \"/Users/alserial/Downloads/OSM2World-0.3.1-bin/OSM2World.jar\",  # osm2world的路径\n",
    "        \"-i\", input_file,  # 输入的 OSM 文件\n",
    "        \"-o\", output_file  # 输出的 OBJ 文件\n",
    "    ]\n",
    "\n",
    "    # 执行命令\n",
    "    result = subprocess.run(command, capture_output=True, text=True)\n",
    "\n",
    "    # 检查是否有错误\n",
    "    if result.returncode == 0:\n",
    "        print(f\"Conversion successful, 3D model saved as {output_file}\")\n",
    "    else:\n",
    "        print(f\"Error during conversion: {result.stderr}\")\n",
    "\n",
    "# 调用 osm2world 进行三维转换\n",
    "convert_to_3d(\"buildings.osm\", \"buildings.obj\")"
   ]
  }
 ],
 "metadata": {
  "kernelspec": {
   "display_name": "sml",
   "language": "python",
   "name": "python3"
  },
  "language_info": {
   "codemirror_mode": {
    "name": "ipython",
    "version": 3
   },
   "file_extension": ".py",
   "mimetype": "text/x-python",
   "name": "python",
   "nbconvert_exporter": "python",
   "pygments_lexer": "ipython3",
   "version": "3.10.0"
  }
 },
 "nbformat": 4,
 "nbformat_minor": 2
}
